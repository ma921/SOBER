{
    "cells": [
        {
            "cell_type": "markdown",
            "metadata": {},
            "source": [
                "# Tutorial 00: Quick start"
            ]
        },
        {
            "cell_type": "markdown",
            "metadata": {},
            "source": [
                "## 1. import libraries"
            ]
        },
        {
            "cell_type": "code",
            "execution_count": 1,
            "metadata": {
                "scrolled": true
            },
            "outputs": [],
            "source": [
                "import os\n",
                "import sys\n",
                "sys.path.append(os.path.join(os.getcwd(), '..'))\n",
                "import warnings\n",
                "warnings.filterwarnings('ignore')"
            ]
        },
        {
            "cell_type": "markdown",
            "metadata": {},
            "source": [
                "## 2. Problem definition\n",
                "Let's get started with the toy example of two-dimensional Branin function.<br>\n",
                "More details can be found [here](https://www.sfu.ca/~ssurjano/branin.html)<br>\n",
                "- bounds: -2 from 3\n",
                "- variable type: continuous\n",
                "- ground truth X: [-1.02543108, -1.02543108]\n",
                "- ground truth Y: 10.6043\n",
                "- optimisation: maximisation"
            ]
        },
        {
            "cell_type": "code",
            "execution_count": 2,
            "metadata": {},
            "outputs": [],
            "source": [
                "import torch\n",
                "def BraninFunction(x):\n",
                "    x = torch.atleast_2d(x)\n",
                "    return ((x.sin() + (3*x).cos()/2).square() / ((x/2).square()+0.3)).prod(axis=1)\n",
                "\n",
                "# set bounds\n",
                "bounds = torch.tensor([\n",
                "    [-2,-2], # lower bound \n",
                "    [ 3, 3], # upper bound\n",
                "])\n",
                "\n",
                "# set prior\n",
                "from SOBER._prior import Uniform    # Import prior from SOBER libraries\n",
                "prior = Uniform(bounds)"
            ]
        },
        {
            "cell_type": "markdown",
            "metadata": {},
            "source": [
                "### 2.1 Initial sampling"
            ]
        },
        {
            "cell_type": "code",
            "execution_count": 3,
            "metadata": {},
            "outputs": [],
            "source": [
                "n_init = 10          # number of initial samples\n",
                "random_seed = 50     # random seed that determines random behaviours\n",
                "torch.manual_seed(random_seed)\n",
                "\n",
                "X = prior.sample(n_init) # random samples\n",
                "Y = BraninFunction(X).unsqueeze(-1)"
            ]
        },
        {
            "cell_type": "markdown",
            "metadata": {},
            "source": [
                "### 2.2 Gaussian process modelling"
            ]
        },
        {
            "cell_type": "code",
            "execution_count": 4,
            "metadata": {},
            "outputs": [
                {
                    "name": "stdout",
                    "output_type": "stream",
                    "text": [
                        "[KeOps] Warning : Cuda libraries were not detected on the system ; using cpu only mode\n"
                    ]
                }
            ],
            "source": [
                "from botorch.models import SingleTaskGP\n",
                "from gpytorch.mlls import ExactMarginalLogLikelihood\n",
                "from botorch.fit import fit_gpytorch_mll\n",
                "model = SingleTaskGP(X, Y) # setting GP model\n",
                "mll = ExactMarginalLogLikelihood(model.likelihood, model)\n",
                "fit_gpytorch_mll(mll) # optimize GP hyperparameters\n",
                "\n",
                "from SOBER._sober import Sober\n",
                "sober = Sober(prior, model) # set SOBER wrapper"
            ]
        },
        {
            "cell_type": "markdown",
            "metadata": {},
            "source": [
                "### 2.3 Set experimental conditions"
            ]
        },
        {
            "cell_type": "code",
            "execution_count": 5,
            "metadata": {},
            "outputs": [],
            "source": [
                "batch_size = 30    # number of batch samples\n",
                "n_rec = 20000      # number of candidates sampled from pi\n",
                "n_nys = 500        # number of samples for Nyström approximation\n",
                "n_init = 10        # number of initial samples\n",
                "n_iterations = 5   # number of iterations (batches)\n",
                "obj = None         # acquisition function"
            ]
        },
        {
            "cell_type": "markdown",
            "metadata": {},
            "source": [
                "### 2.4 Run!"
            ]
        },
        {
            "cell_type": "code",
            "execution_count": 6,
            "metadata": {
                "scrolled": false
            },
            "outputs": [
                {
                    "name": "stdout",
                    "output_type": "stream",
                    "text": [
                        "40) Best value: 1.00283e+01\n",
                        "Acquisition time [s]: 5.15311e+00, per sample [ms]: 1.71770e+02\n",
                        "70) Best value: 1.05872e+01\n",
                        "Acquisition time [s]: 7.49037e+00, per sample [ms]: 2.49679e+02\n",
                        "100) Best value: 1.06037e+01\n",
                        "Acquisition time [s]: 4.89817e+00, per sample [ms]: 1.63272e+02\n",
                        "130) Best value: 1.06042e+01\n",
                        "Acquisition time [s]: 5.05372e+00, per sample [ms]: 1.68457e+02\n",
                        "160) Best value: 1.06043e+01\n",
                        "Acquisition time [s]: 8.56311e+00, per sample [ms]: 2.85437e+02\n"
                    ]
                }
            ],
            "source": [
                "import time\n",
                "results = []\n",
                "for n_iter in range(n_iterations):\n",
                "    start = time.monotonic()\n",
                "    model = SingleTaskGP(X, Y)\n",
                "    mll = ExactMarginalLogLikelihood(model.likelihood, model)\n",
                "    fit_gpytorch_mll(mll)\n",
                "    sober.update_model(model)     # pass the updated model to sober\n",
                "    X_batch = sober.next_batch(\n",
                "        n_rec,\n",
                "        n_nys,\n",
                "        batch_size,\n",
                "        calc_obj=obj,\n",
                "        verbose=False,\n",
                "    )\n",
                "    end = time.monotonic()\n",
                "    interval = end - start\n",
                "    \n",
                "    Y_batch = BraninFunction(X_batch).unsqueeze(-1)\n",
                "    X = torch.cat((X, X_batch), dim=0)\n",
                "    Y = torch.cat((Y, Y_batch), dim=0)\n",
                "\n",
                "    print(f\"{len(X)}) Best value: {Y.max().item():.5e}\")\n",
                "    print(f\"Acquisition time [s]: {interval:.5e}, per sample [ms]: {interval/batch_size*1e3:.5e}\")\n",
                "    results.append([interval, Y.max().item()])"
            ]
        },
        {
            "cell_type": "markdown",
            "metadata": {},
            "source": [
                "### 2.5 Check convergence"
            ]
        },
        {
            "cell_type": "code",
            "execution_count": 7,
            "metadata": {},
            "outputs": [
                {
                    "data": {
                        "text/plain": [
                            "Text(0, 0.5, 'overhead [s]')"
                        ]
                    },
                    "execution_count": 7,
                    "metadata": {},
                    "output_type": "execute_result"
                },
                {
                    "data": {
                        "image/png": "[encoded data removed]",
                        "text/plain": [
                            "<Figure size 640x480 with 2 Axes>"
                        ]
                    },
                    "metadata": {},
                    "output_type": "display_data"
                }
            ],
            "source": [
                "import matplotlib.pyplot as plt\n",
                "fig, (ax1, ax2) = plt.subplots(1, 2, tight_layout=True)\n",
                "idx_batch = torch.arange(n_iterations)\n",
                "results = torch.tensor(results)\n",
                "ytrue = 10.604333877563477\n",
                "ax1.plot(idx_batch, results[:,1], 'bo-', label=\"observed maximum\")\n",
                "ax1.axhline(y=ytrue, linestyle=\"--\", color=\"k\", label=\"ground truth\")\n",
                "ax1.legend()\n",
                "ax1.set_xlabel(\"number of batches\")\n",
                "ax1.set_ylabel(\"y\")\n",
                "\n",
                "ax2.plot(idx_batch, results[:,0], 'bo-')\n",
                "ax2.set_xlabel(\"number of batches\")\n",
                "ax2.set_ylabel(\"overhead [s]\")"
            ]
        },
        {
            "cell_type": "code",
            "execution_count": null,
            "metadata": {},
            "outputs": [],
            "source": []
        }
    ],
    "metadata": {
        "kernelspec": {
            "display_name": "Python 3 (ipykernel)",
            "language": "python",
            "name": "python3"
        },
        "language_info": {
            "codemirror_mode": {
                "name": "ipython",
                "version": 3
            },
            "file_extension": ".py",
            "mimetype": "text/x-python",
            "name": "python",
            "nbconvert_exporter": "python",
            "pygments_lexer": "ipython3",
            "version": "3.9.13"
        }
    },
    "nbformat": 4,
    "nbformat_minor": 2
}