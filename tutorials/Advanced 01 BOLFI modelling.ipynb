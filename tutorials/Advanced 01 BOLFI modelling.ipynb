{
    "cells": [
        {
            "cell_type": "markdown",
            "metadata": {},
            "source": [
                "# Advanced Tutorial : BOLFI model"
            ]
        },
        {
            "cell_type": "markdown",
            "metadata": {},
            "source": [
                "## 1. import libraries"
            ]
        },
        {
            "cell_type": "code",
            "execution_count": 1,
            "metadata": {
                "scrolled": true
            },
            "outputs": [],
            "source": [
                "import os\n",
                "import sys\n",
                "sys.path.append(os.path.join(os.getcwd(), '..'))\n",
                "import warnings\n",
                "warnings.filterwarnings('ignore')"
            ]
        },
        {
            "cell_type": "markdown",
            "metadata": {},
            "source": [
                "## 2. Problem definition\n",
                "Let's get started with the toy example of two-dimensional Branin function.<br>\n",
                "More details can be found [here](https://www.sfu.ca/~ssurjano/branin.html)<br>\n",
                "- bounds: -2 from 3\n",
                "- variable type: continuous\n",
                "- ground truth X: [-1.02543108, -1.02543108]\n",
                "- ground truth Y: 10.6043\n",
                "- optimisation: maximisation"
            ]
        },
        {
            "cell_type": "code",
            "execution_count": 2,
            "metadata": {},
            "outputs": [],
            "source": [
                "import torch\n",
                "def BraninFunction(x):\n",
                "    x = torch.atleast_2d(x)\n",
                "    return ((x.sin() + (3*x).cos()/2).square() / ((x/2).square()+0.3)).prod(axis=1)\n",
                "\n",
                "# set bounds\n",
                "bounds = torch.tensor([\n",
                "    [-2,-2], # lower bound \n",
                "    [ 3, 3], # upper bound\n",
                "])\n",
                "\n",
                "# set prior\n",
                "from SOBER._prior import Uniform    # Import prior from SOBER libraries\n",
                "prior = Uniform(bounds)"
            ]
        },
        {
            "cell_type": "markdown",
            "metadata": {},
            "source": [
                "### 2.1 Initial sampling"
            ]
        },
        {
            "cell_type": "code",
            "execution_count": 3,
            "metadata": {},
            "outputs": [],
            "source": [
                "n_init = 10          # number of initial samples\n",
                "random_seed = 50     # random seed that determines random behaviours\n",
                "torch.manual_seed(random_seed)\n",
                "\n",
                "X = prior.sample(n_init) # random samples\n",
                "Y = BraninFunction(X).unsqueeze(-1)"
            ]
        },
        {
            "cell_type": "markdown",
            "metadata": {},
            "source": [
                "### 2.2 Gaussian process modelling with BOLFI"
            ]
        },
        {
            "cell_type": "code",
            "execution_count": 4,
            "metadata": {},
            "outputs": [
                {
                    "name": "stdout",
                    "output_type": "stream",
                    "text": [
                        "[KeOps] Warning : Cuda libraries were not detected on the system ; using cpu only mode\n"
                    ]
                }
            ],
            "source": [
                "import gpytorch\n",
                "from gpytorch.kernels import ScaleKernel, RBFKernel\n",
                "from gpytorch.likelihoods import GaussianLikelihood\n",
                "from gpytorch.mlls import ExactMarginalLogLikelihood\n",
                "from gpytorch.constraints import Interval\n",
                "from botorch.models import SingleTaskGP\n",
                "from botorch.fit import fit_gpytorch_mll\n",
                "\n",
                "class QuadraticMean(gpytorch.means.Mean):                                                                                                                                                                     \n",
                "    def __init__(self, input_size, batch_shape=torch.Size()):\n",
                "        super().__init__()\n",
                "        self.register_parameter(name='a', parameter=torch.nn.Parameter(torch.randn(*batch_shape, input_size)))\n",
                "        self.register_parameter(name='b', parameter=torch.nn.Parameter(torch.randn(*batch_shape, input_size)))\n",
                "        self.register_parameter(name='c', parameter=torch.nn.Parameter(torch.randn(*batch_shape, 1)))\n",
                "        \n",
                "    def forward(self, x):\n",
                "        return torch.einsum('...j, ...ij->...i', self.a, x.pow(2)) + torch.einsum('...j, ...ij->...i', self.b, x) + self.c\n",
                "\n",
                "def set_rbf_model(X, Y):\n",
                "    base_kernel = RBFKernel()\n",
                "    covar_module = ScaleKernel(base_kernel)\n",
                "    mean_module = QuadraticMean(X.shape[-1])\n",
                "\n",
                "    # Fit a GP model\n",
                "    train_Y = (Y - Y.mean()) / Y.std()\n",
                "    train_Y = train_Y.view(-1).unsqueeze(1)\n",
                "    likelihood = GaussianLikelihood(noise_constraint=Interval(1e-8, 1e-3))\n",
                "    model = SingleTaskGP(\n",
                "        X, \n",
                "        train_Y, \n",
                "        likelihood=likelihood, \n",
                "        mean_module=mean_module,\n",
                "        covar_module=covar_module,\n",
                "    )\n",
                "    return model"
            ]
        },
        {
            "cell_type": "markdown",
            "metadata": {},
            "source": [
                "### 2.3 Set experimental conditions"
            ]
        },
        {
            "cell_type": "code",
            "execution_count": 5,
            "metadata": {},
            "outputs": [],
            "source": [
                "batch_size = 10    # number of batch samples\n",
                "n_rec = 20000      # number of candidates sampled from pi\n",
                "n_nys = 500        # number of samples for Nyström approximation\n",
                "n_init = 10        # number of initial samples\n",
                "n_iterations = 5   # number of iterations (batches)\n",
                "obj = None         # acquisition function"
            ]
        },
        {
            "cell_type": "markdown",
            "metadata": {},
            "source": [
                "### 2.4 Run!"
            ]
        },
        {
            "cell_type": "code",
            "execution_count": 7,
            "metadata": {
                "scrolled": false
            },
            "outputs": [
                {
                    "name": "stdout",
                    "output_type": "stream",
                    "text": [
                        "20) Best value: 4.49278e+00\n",
                        "Acquisition time [s]: 5.35522e+00, per sample [ms]: 5.35522e+02\n",
                        "30) Best value: 1.01822e+01\n",
                        "Acquisition time [s]: 8.20952e+00, per sample [ms]: 8.20952e+02\n",
                        "40) Best value: 1.03502e+01\n",
                        "Acquisition time [s]: 7.67139e+00, per sample [ms]: 7.67139e+02\n",
                        "50) Best value: 1.03502e+01\n",
                        "Acquisition time [s]: 8.71947e+00, per sample [ms]: 8.71947e+02\n",
                        "60) Best value: 1.05360e+01\n",
                        "Acquisition time [s]: 6.26989e+00, per sample [ms]: 6.26989e+02\n"
                    ]
                }
            ],
            "source": [
                "import time\n",
                "from SOBER._sober import Sober\n",
                "\n",
                "model = set_rbf_model(X, Y)\n",
                "sober = Sober(prior, model) # set SOBER wrapper\n",
                "\n",
                "results = []\n",
                "for n_iter in range(n_iterations):\n",
                "    start = time.monotonic()\n",
                "    model = set_rbf_model(X, Y)\n",
                "    mll = ExactMarginalLogLikelihood(model.likelihood, model)\n",
                "    fit_gpytorch_mll(mll)\n",
                "    sober.update_model(model)     # pass the updated model to sober\n",
                "    X_batch = sober.next_batch(\n",
                "        n_rec,\n",
                "        n_nys,\n",
                "        batch_size,\n",
                "        calc_obj=obj,\n",
                "        verbose=False,\n",
                "    )\n",
                "    end = time.monotonic()\n",
                "    interval = end - start\n",
                "    \n",
                "    Y_batch = BraninFunction(X_batch).unsqueeze(-1)\n",
                "    X = torch.cat((X, X_batch), dim=0)\n",
                "    Y = torch.cat((Y, Y_batch), dim=0)\n",
                "\n",
                "    print(f\"{len(X)}) Best value: {Y.max().item():.5e}\")\n",
                "    print(f\"Acquisition time [s]: {interval:.5e}, per sample [ms]: {interval/batch_size*1e3:.5e}\")\n",
                "    results.append([interval, Y.max().item()])"
            ]
        },
        {
            "cell_type": "markdown",
            "metadata": {},
            "source": [
                "### 2.5 Check convergence"
            ]
        },
        {
            "cell_type": "code",
            "execution_count": 8,
            "metadata": {},
            "outputs": [
                {
                    "data": {
                        "text/plain": [
                            "Text(0, 0.5, 'overhead [s]')"
                        ]
                    },
                    "execution_count": 8,
                    "metadata": {},
                    "output_type": "execute_result"
                },
                {
                    "data": {
                        "image/png": "[encoded data removed]",
                        "text/plain": [
                            "<Figure size 640x480 with 2 Axes>"
                        ]
                    },
                    "metadata": {},
                    "output_type": "display_data"
                }
            ],
            "source": [
                "import matplotlib.pyplot as plt\n",
                "fig, (ax1, ax2) = plt.subplots(1, 2, tight_layout=True)\n",
                "idx_batch = torch.arange(n_iterations)\n",
                "results = torch.tensor(results)\n",
                "ytrue = 10.604333877563477\n",
                "ax1.plot(idx_batch, results[:,1], 'bo-', label=\"observed maximum\")\n",
                "ax1.axhline(y=ytrue, linestyle=\"--\", color=\"k\", label=\"ground truth\")\n",
                "ax1.legend()\n",
                "ax1.set_xlabel(\"number of batches\")\n",
                "ax1.set_ylabel(\"y\")\n",
                "\n",
                "ax2.plot(idx_batch, results[:,0], 'bo-')\n",
                "ax2.set_xlabel(\"number of batches\")\n",
                "ax2.set_ylabel(\"overhead [s]\")"
            ]
        },
        {
            "cell_type": "code",
            "execution_count": null,
            "metadata": {},
            "outputs": [],
            "source": []
        }
    ],
    "metadata": {
        "kernelspec": {
            "display_name": "Python 3 (ipykernel)",
            "language": "python",
            "name": "python3"
        },
        "language_info": {
            "codemirror_mode": {
                "name": "ipython",
                "version": 3
            },
            "file_extension": ".py",
            "mimetype": "text/x-python",
            "name": "python",
            "nbconvert_exporter": "python",
            "pygments_lexer": "ipython3",
            "version": "3.9.13"
        }
    },
    "nbformat": 4,
    "nbformat_minor": 2
}